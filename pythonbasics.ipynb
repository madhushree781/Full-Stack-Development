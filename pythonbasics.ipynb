{
  "nbformat": 4,
  "nbformat_minor": 0,
  "metadata": {
    "colab": {
      "name": "pythonbasics.ipynb",
      "provenance": [],
      "collapsed_sections": [],
      "authorship_tag": "ABX9TyOmNtXcXs5Sm+R5QTElUc61",
      "include_colab_link": true
    },
    "kernelspec": {
      "name": "python3",
      "display_name": "Python 3"
    },
    "language_info": {
      "name": "python"
    }
  },
  "cells": [
    {
      "cell_type": "markdown",
      "metadata": {
        "id": "view-in-github",
        "colab_type": "text"
      },
      "source": [
        "<a href=\"https://colab.research.google.com/github/madhushree781/Full-Stack-Development/blob/main/pythonbasics.ipynb\" target=\"_parent\"><img src=\"https://colab.research.google.com/assets/colab-badge.svg\" alt=\"Open In Colab\"/></a>"
      ]
    },
    {
      "cell_type": "code",
      "metadata": {
        "colab": {
          "base_uri": "https://localhost:8080/"
        },
        "id": "mh_cr_oze4yu",
        "outputId": "ebf67bc5-ae59-41d3-84ae-838936b109e7"
      },
      "source": [
        "#printing variables\n",
        "fname=\"PRAKRUTHI\"\n",
        "fac_no=525\n",
        "height=5.2\n",
        "print(fname,fac_no,height)\n"
      ],
      "execution_count": null,
      "outputs": [
        {
          "output_type": "stream",
          "name": "stdout",
          "text": [
            "PRAKRUTHI 525 5.2\n"
          ]
        }
      ]
    },
    {
      "cell_type": "code",
      "metadata": {
        "colab": {
          "base_uri": "https://localhost:8080/"
        },
        "id": "EdFCrz39ge_i",
        "outputId": "927ba741-f38c-42d1-f3a6-fb7a1b2f4569"
      },
      "source": [
        "#input\n",
        "cname=input(\"please enter your college name\")\n",
        "print(cname)"
      ],
      "execution_count": null,
      "outputs": [
        {
          "output_type": "stream",
          "name": "stdout",
          "text": [
            "please enter your college name KIT\n",
            " KIT\n"
          ]
        }
      ]
    },
    {
      "cell_type": "code",
      "metadata": {
        "colab": {
          "base_uri": "https://localhost:8080/"
        },
        "id": "Lvc_xi9fg6Y5",
        "outputId": "15a6e3e3-dec9-4bbf-8e3c-473be02225a8"
      },
      "source": [
        "#operators\n",
        "24/6"
      ],
      "execution_count": null,
      "outputs": [
        {
          "output_type": "execute_result",
          "data": {
            "text/plain": [
              "4.0"
            ]
          },
          "metadata": {},
          "execution_count": 8
        }
      ]
    },
    {
      "cell_type": "code",
      "metadata": {
        "colab": {
          "base_uri": "https://localhost:8080/"
        },
        "id": "1A-PWjj6hup7",
        "outputId": "44742b32-2cc3-4a20-a3fb-876aeb8d14d5"
      },
      "source": [
        "#program to input the marks & display grade\n",
        "marks=int(input(\"please enter your marks\"))\n",
        "if marks>39 and marks<50:\n",
        "  print(\"E grade\")\n",
        "elif marks>49 and marks<60:\n",
        "  print(\"D grade\")\n",
        "elif marks>59 and marks<70:\n",
        "  print(\"C grade\")\n",
        "else:\n",
        "  print(\"pass\")"
      ],
      "execution_count": null,
      "outputs": [
        {
          "output_type": "stream",
          "name": "stdout",
          "text": [
            "please enter your marks70\n",
            "pass\n"
          ]
        }
      ]
    },
    {
      "cell_type": "code",
      "metadata": {
        "colab": {
          "base_uri": "https://localhost:8080/"
        },
        "id": "loiOZ1HDjJhU",
        "outputId": "4851085c-470a-481d-fc5e-0dde83077343"
      },
      "source": [
        "#python program of finding factorial of a number\n",
        "n=int(input(\"enter a number value to find factorial of num\"))\n",
        "fact=1\n",
        "i=1\n",
        "while i<=n:\n",
        "  fact=fact*i\n",
        "  i+=1\n",
        "  print(fact)"
      ],
      "execution_count": null,
      "outputs": [
        {
          "output_type": "stream",
          "name": "stdout",
          "text": [
            "enter a number value to find factorial of num5\n",
            "1\n",
            "2\n",
            "6\n",
            "24\n",
            "120\n"
          ]
        }
      ]
    },
    {
      "cell_type": "code",
      "metadata": {
        "colab": {
          "base_uri": "https://localhost:8080/"
        },
        "id": "dRcEqjXdkOZ6",
        "outputId": "34c1837a-f0df-4e87-911d-37e0e57dc2e9"
      },
      "source": [
        "#to search a key element to implement linear search\n",
        "cnames=[\"msril\",\"hkbk\",\"bms\"]\n",
        "key=input(\"enter college name\")\n",
        "flag=0\n",
        "for x in cnames:\n",
        "  if key==x:\n",
        "    print(\"key is found in list\")\n",
        "    flag=1\n",
        "    break\n",
        "  else:\n",
        "    continue\n",
        "if flag==0:\n",
        "  print(\"key not found\")"
      ],
      "execution_count": null,
      "outputs": [
        {
          "output_type": "stream",
          "name": "stdout",
          "text": [
            "enter college namekit\n",
            "key not found\n"
          ]
        }
      ]
    },
    {
      "cell_type": "code",
      "metadata": {
        "colab": {
          "base_uri": "https://localhost:8080/"
        },
        "id": "xSDszubTlzKu",
        "outputId": "0a9a3bab-29d0-4451-8afd-76290656c858"
      },
      "source": [
        "for x in range(55):\n",
        "  print(x)"
      ],
      "execution_count": null,
      "outputs": [
        {
          "output_type": "stream",
          "name": "stdout",
          "text": [
            "0\n",
            "1\n",
            "2\n",
            "3\n",
            "4\n",
            "5\n",
            "6\n",
            "7\n",
            "8\n",
            "9\n",
            "10\n",
            "11\n",
            "12\n",
            "13\n",
            "14\n",
            "15\n",
            "16\n",
            "17\n",
            "18\n",
            "19\n",
            "20\n",
            "21\n",
            "22\n",
            "23\n",
            "24\n",
            "25\n",
            "26\n",
            "27\n",
            "28\n",
            "29\n",
            "30\n",
            "31\n",
            "32\n",
            "33\n",
            "34\n",
            "35\n",
            "36\n",
            "37\n",
            "38\n",
            "39\n",
            "40\n",
            "41\n",
            "42\n",
            "43\n",
            "44\n",
            "45\n",
            "46\n",
            "47\n",
            "48\n",
            "49\n",
            "50\n",
            "51\n",
            "52\n",
            "53\n",
            "54\n"
          ]
        }
      ]
    },
    {
      "cell_type": "code",
      "metadata": {
        "colab": {
          "base_uri": "https://localhost:8080/"
        },
        "id": "ApFlCCp_mGqu",
        "outputId": "4d85e852-6904-4a7d-ef47-a4585b5f9169"
      },
      "source": [
        "#nested loops & pass statements\n",
        "sub=[\"data structure\",\"oops\",\"DMS\"]\n",
        "student=[\"nithya\",\"harini\",\"anjali\"]\n",
        "print(\"student name\",\"sub name\")\n",
        "for x in student:\n",
        "  for y in sub:\n",
        "    print(x,y)\n"
      ],
      "execution_count": null,
      "outputs": [
        {
          "output_type": "stream",
          "name": "stdout",
          "text": [
            "student name sub name\n",
            "nithya data structure\n",
            "nithya oops\n",
            "nithya DMS\n",
            "harini data structure\n",
            "harini oops\n",
            "harini DMS\n",
            "anjali data structure\n",
            "anjali oops\n",
            "anjali DMS\n"
          ]
        }
      ]
    },
    {
      "cell_type": "code",
      "metadata": {
        "id": "kfQ-WFWVoUip"
      },
      "source": [
        "for x in (0,1,2):\n",
        "  pass"
      ],
      "execution_count": null,
      "outputs": []
    }
  ]
}