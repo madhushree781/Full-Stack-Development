{
  "nbformat": 4,
  "nbformat_minor": 0,
  "metadata": {
    "colab": {
      "name": "List.ipynb",
      "provenance": [],
      "collapsed_sections": [],
      "authorship_tag": "ABX9TyMptKELWPvmBDTrQsfwK/TF",
      "include_colab_link": true
    },
    "kernelspec": {
      "name": "python3",
      "display_name": "Python 3"
    },
    "language_info": {
      "name": "python"
    }
  },
  "cells": [
    {
      "cell_type": "markdown",
      "metadata": {
        "id": "view-in-github",
        "colab_type": "text"
      },
      "source": [
        "<a href=\"https://colab.research.google.com/github/madhushree781/Full-Stack-Development/blob/main/List.ipynb\" target=\"_parent\"><img src=\"https://colab.research.google.com/assets/colab-badge.svg\" alt=\"Open In Colab\"/></a>"
      ]
    },
    {
      "cell_type": "code",
      "metadata": {
        "colab": {
          "base_uri": "https://localhost:8080/"
        },
        "id": "Z-f9t6jIvNYj",
        "outputId": "78745aea-a22b-4687-c510-3cc0e5dcb5be"
      },
      "source": [
        "#creating a list\n",
        "flowerslist=[\"jasmine\",\"lilly\",\"marigold\",\"hibiscus\",\"rose\"]\n",
        "print(flowerslist)"
      ],
      "execution_count": 5,
      "outputs": [
        {
          "output_type": "stream",
          "name": "stdout",
          "text": [
            "['jasmine', 'lilly', 'marigold', 'hibiscus', 'rose']\n"
          ]
        }
      ]
    },
    {
      "cell_type": "code",
      "metadata": {
        "colab": {
          "base_uri": "https://localhost:8080/"
        },
        "id": "5zSCDqVDwYn2",
        "outputId": "1d49a489-7516-496c-c352-5d21f469019b"
      },
      "source": [
        "#Using different indices\n",
        "flowerslist=[\"jasmine\",\"lilly\",\"marigold\",\"hibiscus\",\"rose\"]\n",
        "print(flowerslist[-1])\n"
      ],
      "execution_count": 6,
      "outputs": [
        {
          "output_type": "stream",
          "name": "stdout",
          "text": [
            "rose\n"
          ]
        }
      ]
    },
    {
      "cell_type": "code",
      "metadata": {
        "colab": {
          "base_uri": "https://localhost:8080/"
        },
        "id": "uc8uiDMNw53p",
        "outputId": "a098d3d6-e158-4e0f-f6b8-cd8844645343"
      },
      "source": [
        "#reassignment of list values\n",
        "flowerslist=[\"jasmine\",\"lilly\",\"marigold\",\"hibiscus\",\"rose\"]\n",
        "flowerslist[0]=\"spatika\"\n",
        "print(flowerslist)"
      ],
      "execution_count": 9,
      "outputs": [
        {
          "output_type": "stream",
          "name": "stdout",
          "text": [
            "['spatika', 'lilly', 'marigold', 'hibiscus', 'rose']\n"
          ]
        }
      ]
    },
    {
      "cell_type": "code",
      "metadata": {
        "colab": {
          "base_uri": "https://localhost:8080/"
        },
        "id": "WfFC3kA0x0kx",
        "outputId": "2ffa45bf-c562-4ba8-c2a4-617afb914cf9"
      },
      "source": [
        "#print all the elements using loop\n",
        "for x in flowerslist:\n",
        "  print(x)"
      ],
      "execution_count": 10,
      "outputs": [
        {
          "output_type": "stream",
          "name": "stdout",
          "text": [
            "spatika\n",
            "lilly\n",
            "marigold\n",
            "hibiscus\n",
            "rose\n"
          ]
        }
      ]
    },
    {
      "cell_type": "code",
      "metadata": {
        "colab": {
          "base_uri": "https://localhost:8080/"
        },
        "id": "U2uPmoO6yJlX",
        "outputId": "3db9d18b-c5c0-425e-9c32-22a3ba7d2d81"
      },
      "source": [
        "#length of the list\n",
        "print(len(flowerslist))"
      ],
      "execution_count": 11,
      "outputs": [
        {
          "output_type": "stream",
          "name": "stdout",
          "text": [
            "5\n"
          ]
        }
      ]
    },
    {
      "cell_type": "code",
      "metadata": {
        "colab": {
          "base_uri": "https://localhost:8080/"
        },
        "id": "MYzvj_1cyaBA",
        "outputId": "0d63c5bf-bb44-4340-92d2-4e84cdb1d3f6"
      },
      "source": [
        "#item exist in the list\n",
        "key=input(\"enter a name to search\")\n",
        "if key in flowerslist:\n",
        "  print(\"yes,key in the list\")\n",
        "else:\n",
        "  print(\"key is not found in the list\")"
      ],
      "execution_count": 13,
      "outputs": [
        {
          "output_type": "stream",
          "name": "stdout",
          "text": [
            "enter a name to searchsunflower\n",
            "key is not found in the list\n"
          ]
        }
      ]
    },
    {
      "cell_type": "code",
      "metadata": {
        "colab": {
          "base_uri": "https://localhost:8080/"
        },
        "id": "6vvMfxCMzQ7B",
        "outputId": "571bb130-ff66-4103-a86b-ce5cba6f965a"
      },
      "source": [
        "#Adding  the elements at the last of the list\n",
        "flowerslist=[\"jasmine\",\"lilly\",\"marigold\",\"hibiscus\",\"rose\"]\n",
        "flowerslist.append(\"sunflower\")\n",
        "print(flowerslist) "
      ],
      "execution_count": 18,
      "outputs": [
        {
          "output_type": "stream",
          "name": "stdout",
          "text": [
            "['jasmine', 'lilly', 'marigold', 'hibiscus', 'rose', 'sunflower']\n"
          ]
        }
      ]
    },
    {
      "cell_type": "code",
      "metadata": {
        "colab": {
          "base_uri": "https://localhost:8080/"
        },
        "id": "0r1BXg2X0QsD",
        "outputId": "358127ba-5e06-42f0-faf5-399ffa7a220c"
      },
      "source": [
        "#inserting element in between the list\n",
        "flowerslist=[\"jasmine\",\"lilly\",\"marigold\",\"hibiscus\",\"rose\"]\n",
        "flowerslist.insert(2,\"sunflower\")\n",
        "print(flowerslist)"
      ],
      "execution_count": 17,
      "outputs": [
        {
          "output_type": "stream",
          "name": "stdout",
          "text": [
            "['jasmine', 'lilly', 'sunflower', 'marigold', 'hibiscus', 'rose']\n"
          ]
        }
      ]
    },
    {
      "cell_type": "code",
      "metadata": {
        "colab": {
          "base_uri": "https://localhost:8080/"
        },
        "id": "MV5mORJQ096d",
        "outputId": "08e9219e-217f-4c23-c7f9-362680bb3843"
      },
      "source": [
        "#removing the elements from the list we use four methods\n",
        "#remove\n",
        "flowerslist=[\"jasmine\",\"lilly\",\"marigold\",\"hibiscus\",\"rose\"]\n",
        "flowerslist.remove(\"rose\")\n",
        "print(flowerslist)"
      ],
      "execution_count": 19,
      "outputs": [
        {
          "output_type": "stream",
          "name": "stdout",
          "text": [
            "['jasmine', 'lilly', 'marigold', 'hibiscus']\n"
          ]
        }
      ]
    },
    {
      "cell_type": "code",
      "metadata": {
        "colab": {
          "base_uri": "https://localhost:8080/"
        },
        "id": "MRtAre0-1u3t",
        "outputId": "959001f1-1c47-4843-c87b-35e2212453cf"
      },
      "source": [
        "#pop\n",
        "flowerslist=[\"jasmine\",\"lilly\",\"marigold\",\"hibiscus\",\"rose\"]\n",
        "flowerslist.pop()\n",
        "print(flowerslist)"
      ],
      "execution_count": 20,
      "outputs": [
        {
          "output_type": "stream",
          "name": "stdout",
          "text": [
            "['jasmine', 'lilly', 'marigold', 'hibiscus']\n"
          ]
        }
      ]
    },
    {
      "cell_type": "code",
      "metadata": {
        "colab": {
          "base_uri": "https://localhost:8080/"
        },
        "id": "f05asgw82ApC",
        "outputId": "a8d8b9aa-5f38-4330-d504-888772395a1e"
      },
      "source": [
        "#del\n",
        "flowerslist=[\"jasmine\",\"lilly\",\"marigold\",\"hibiscus\",\"rose\"]\n",
        "del flowerslist[2]\n",
        "print(flowerslist)"
      ],
      "execution_count": 25,
      "outputs": [
        {
          "output_type": "stream",
          "name": "stdout",
          "text": [
            "['jasmine', 'lilly', 'hibiscus', 'rose']\n"
          ]
        }
      ]
    },
    {
      "cell_type": "code",
      "metadata": {
        "colab": {
          "base_uri": "https://localhost:8080/"
        },
        "id": "LHEE17RY2nsJ",
        "outputId": "db7836ab-c3a0-4017-a0e2-9a8384fe973a"
      },
      "source": [
        "#copying a list\n",
        "flowerslist=[\"jasmine\",\"lilly\",\"marigold\",\"hibiscus\",\"rose\"]\n",
        "flowerslist1=flowerslist.copy()\n",
        "print(flowerslist1)"
      ],
      "execution_count": 26,
      "outputs": [
        {
          "output_type": "stream",
          "name": "stdout",
          "text": [
            "['jasmine', 'lilly', 'marigold', 'hibiscus', 'rose']\n"
          ]
        }
      ]
    },
    {
      "cell_type": "code",
      "metadata": {
        "id": "46OsUCqK3bTh"
      },
      "source": [
        "#joining the two list\n",
        "flowerslist=[\"jasmine\",\"lilly\",\"marigold\",\"hibiscus\",\"rose\"]\n",
        "flowerslist1="
      ],
      "execution_count": null,
      "outputs": []
    },
    {
      "cell_type": "code",
      "metadata": {
        "colab": {
          "base_uri": "https://localhost:8080/"
        },
        "id": "wwizmaeX5YJN",
        "outputId": "bc056ff0-cc03-4438-fd3d-ed0b82975a38"
      },
      "source": [
        "#python program to count no. of vowels in a string\n",
        "string=input(\"Enter a string \")\n",
        "vowels=0\n",
        "for i in string:\n",
        " if (i=='a' or i=='A' or i=='e' or i=='E' or i=='o' or i=='O' or i=='u' or i=='U'):\n",
        "   vowels=vowels+1\n",
        "\n",
        "print(vowels)"
      ],
      "execution_count": 39,
      "outputs": [
        {
          "output_type": "stream",
          "name": "stdout",
          "text": [
            "Enter a string divya\n",
            "1\n"
          ]
        }
      ]
    },
    {
      "cell_type": "code",
      "metadata": {
        "colab": {
          "base_uri": "https://localhost:8080/"
        },
        "id": "8Ut4lOwC9Zyu",
        "outputId": "802c4d93-ee4e-40fb-b949-7c2f35cb4755"
      },
      "source": [
        "#python program\n",
        "string=input(\"enter a string\")\n",
        "string=string.replace('a','$');\n",
        "string=string.replace('A','$');\n",
        "print(string)"
      ],
      "execution_count": 42,
      "outputs": [
        {
          "output_type": "stream",
          "name": "stdout",
          "text": [
            "enter a stringJavA\n",
            "J$v$\n"
          ]
        }
      ]
    },
    {
      "cell_type": "code",
      "metadata": {
        "colab": {
          "base_uri": "https://localhost:8080/"
        },
        "id": "z38Utso-_Zys",
        "outputId": "16f1b6f3-bc8e-4057-c07f-28860391abb1"
      },
      "source": [
        "#sum of two numbers\n",
        "n1=int(input(\"enter a number:\"))\n",
        "n2=int(input(\"enter a number:\"))\n",
        "sum=0;\n",
        "sum=n1+n2;\n",
        "print(\"sum of {0} & {1} is {2}\".format(n1,n2,sum))"
      ],
      "execution_count": 45,
      "outputs": [
        {
          "output_type": "stream",
          "name": "stdout",
          "text": [
            "enter a number:4\n",
            "enter a number:8\n",
            "sum of 4 & 8 is 12\n"
          ]
        }
      ]
    },
    {
      "cell_type": "code",
      "metadata": {
        "colab": {
          "base_uri": "https://localhost:8080/"
        },
        "id": "taFoSbyEDdLz",
        "outputId": "b02567be-dd17-4245-8fd7-1b89c4b21cdc"
      },
      "source": [
        "#program to print random numbers\n",
        "import random\n",
        "random.randint(0,9)\n",
        "print(random.randint(0,9))"
      ],
      "execution_count": 49,
      "outputs": [
        {
          "output_type": "stream",
          "name": "stdout",
          "text": [
            "8\n"
          ]
        }
      ]
    },
    {
      "cell_type": "code",
      "metadata": {
        "colab": {
          "base_uri": "https://localhost:8080/"
        },
        "id": "BG-QB9WkC-wt",
        "outputId": "a8b9e97d-ca84-4ab4-d3ee-98fc92d2b11e"
      },
      "source": [
        "#program to convert km to miles using formula miles=km*0.62\n",
        "km=int(input(\"enter km:\"))\n",
        "miles=int(km*0.62)\n",
        "print(miles)"
      ],
      "execution_count": 46,
      "outputs": [
        {
          "output_type": "stream",
          "name": "stdout",
          "text": [
            "enter km:45\n",
            "27\n"
          ]
        }
      ]
    },
    {
      "cell_type": "code",
      "metadata": {
        "id": "PVw584rgD_yY"
      },
      "source": [
        "def change(string):\n",
        "  return string[-1:]+string[1:-1]+string[:1]\n",
        "  string=input(\"enter string:\")\n",
        "  print(\"modified string\")\n",
        "  print(change(string))"
      ],
      "execution_count": 51,
      "outputs": []
    }
  ]
}