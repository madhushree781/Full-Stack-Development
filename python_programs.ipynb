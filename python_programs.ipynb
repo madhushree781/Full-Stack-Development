{
  "nbformat": 4,
  "nbformat_minor": 0,
  "metadata": {
    "colab": {
      "name": "python programs.ipynb",
      "provenance": [],
      "authorship_tag": "ABX9TyNIo8YiTQUjcA5d8c993aX2",
      "include_colab_link": true
    },
    "kernelspec": {
      "name": "python3",
      "display_name": "Python 3"
    },
    "language_info": {
      "name": "python"
    }
  },
  "cells": [
    {
      "cell_type": "markdown",
      "metadata": {
        "id": "view-in-github",
        "colab_type": "text"
      },
      "source": [
        "<a href=\"https://colab.research.google.com/github/madhushree781/Full-Stack-Development/blob/main/python_programs.ipynb\" target=\"_parent\"><img src=\"https://colab.research.google.com/assets/colab-badge.svg\" alt=\"Open In Colab\"/></a>"
      ]
    },
    {
      "cell_type": "code",
      "metadata": {
        "colab": {
          "base_uri": "https://localhost:8080/"
        },
        "id": "pzmU7ab0L2Ww",
        "outputId": "fc36f647-75e9-491b-ae4b-62df4c0de0b8"
      },
      "source": [
        "#python program to check given year is leap year or not\n",
        "year=int(input(\"enter year to be checked: \"))\n",
        "if (year%4==0 and year%100!=0 or year%400==0):\n",
        "  print(\"the year is a leap year\")\n",
        "else:\n",
        "  print(\"the year is not a leap year\")"
      ],
      "execution_count": 2,
      "outputs": [
        {
          "output_type": "stream",
          "name": "stdout",
          "text": [
            "enter year to be checked: 2002\n",
            "the year is not a leap year\n"
          ]
        }
      ]
    },
    {
      "cell_type": "code",
      "metadata": {
        "colab": {
          "base_uri": "https://localhost:8080/"
        },
        "id": "FcxAV2MgNDBb",
        "outputId": "eb84498a-2c24-4843-b811-694daedcb0dd"
      },
      "source": [
        "#pythonprogram to find length of the string without using length function\n",
        "string=input(\"enter the string to find the length: \")\n",
        "count=0;\n",
        "for x in string:\n",
        "  count+=1;\n",
        "print(count)"
      ],
      "execution_count": 3,
      "outputs": [
        {
          "output_type": "stream",
          "name": "stdout",
          "text": [
            "enter the string to find the length: gaurav\n",
            "6\n"
          ]
        }
      ]
    },
    {
      "cell_type": "code",
      "metadata": {
        "colab": {
          "base_uri": "https://localhost:8080/"
        },
        "id": "PBGItLFOOB9f",
        "outputId": "5009788a-b8c2-4041-9bd1-13af0148eb16"
      },
      "source": [
        "#python program to find compound interest for the given input p,n,r using formula p((1+n*r)/100)n\n",
        "compountInterest=0;\n",
        "p=int(input(\"enter the principle amount: \"))\n",
        "n=int(input(\"enter the number of years: \"))\n",
        "r=int(input(\"enter the rate of interest: \"))\n",
        "compountInterest = p*((1+n*r)/100)*n;\n",
        "print('{0}'.format(compountInterest));\n",
        "amount=compountInterest+p;\n",
        "print(\"total amount to be paid: {0}\".format(amount))\n"
      ],
      "execution_count": 5,
      "outputs": [
        {
          "output_type": "stream",
          "name": "stdout",
          "text": [
            "enter the principle amount: 15000\n",
            "enter the number of years: 2\n",
            "enter the rate of interest: 6\n",
            "3900.0\n",
            "total amount to be paid: 18900.0\n"
          ]
        }
      ]
    },
    {
      "cell_type": "code",
      "metadata": {
        "colab": {
          "base_uri": "https://localhost:8080/"
        },
        "id": "M3qZvUDLPND6",
        "outputId": "b311abdf-493c-4505-b954-65c3d14df6a8"
      },
      "source": [
        "#python program to find greater of 3 numbers\n",
        "n1=int(input(\"enter the first number: \"))\n",
        "n2=int(input(\"enter the second number: \"))\n",
        "n3=int(input(\"enter the third number: \"))\n",
        "if n1>n2 and n1>n3:\n",
        "  print(\"{0} is greater than {1} and {2}\".format(n1,n2,n3))\n",
        "elif n2>n3:\n",
        "   print(\"{0} is greater than {1} and {2}\".format(n2,n1,n3))\n",
        "else:\n",
        "   print(\"{0} is greater than {1} and {2}\".format(n3,n1,n2))\n"
      ],
      "execution_count": 6,
      "outputs": [
        {
          "output_type": "stream",
          "name": "stdout",
          "text": [
            "enter the first number: 9\n",
            "enter the second number: 45\n",
            "enter the third number: 7\n",
            "45 is greater than 9 and 7\n"
          ]
        }
      ]
    },
    {
      "cell_type": "code",
      "metadata": {
        "colab": {
          "base_uri": "https://localhost:8080/"
        },
        "id": "zL1eKtoBPww5",
        "outputId": "4f8d36f7-a446-4163-b23d-25239f339bad"
      },
      "source": [
        "#python program to check a number is odd or even\n",
        "num=int(input(\"enter a number: \"))\n",
        "if num%2==0:\n",
        "  print(\"{0} is a even number\".format(num))\n",
        "else:\n",
        "  print(\"{0} is a odd number\".format(num))\n",
        "\n"
      ],
      "execution_count": 7,
      "outputs": [
        {
          "output_type": "stream",
          "name": "stdout",
          "text": [
            "enter a number: 24\n",
            "24 is a even number\n"
          ]
        }
      ]
    },
    {
      "cell_type": "code",
      "metadata": {
        "id": "jkYV_EkdQPKi"
      },
      "source": [
        ""
      ],
      "execution_count": null,
      "outputs": []
    }
  ]
}